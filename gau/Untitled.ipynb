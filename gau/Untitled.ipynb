{
 "cells": [
  {
   "cell_type": "code",
   "execution_count": 1,
   "id": "ahead-balance",
   "metadata": {},
   "outputs": [],
   "source": [
    "import pickle\n",
    "import pandas\n",
    "data = pickle.load( open( \"gauss_data.p\", \"rb\" ) )"
   ]
  },
  {
   "cell_type": "code",
   "execution_count": 2,
   "id": "overall-philadelphia",
   "metadata": {},
   "outputs": [
    {
     "data": {
      "text/html": [
       "<div>\n",
       "<style scoped>\n",
       "    .dataframe tbody tr th:only-of-type {\n",
       "        vertical-align: middle;\n",
       "    }\n",
       "\n",
       "    .dataframe tbody tr th {\n",
       "        vertical-align: top;\n",
       "    }\n",
       "\n",
       "    .dataframe thead th {\n",
       "        text-align: right;\n",
       "    }\n",
       "</style>\n",
       "<table border=\"1\" class=\"dataframe\">\n",
       "  <thead>\n",
       "    <tr style=\"text-align: right;\">\n",
       "      <th></th>\n",
       "      <th>dist_0</th>\n",
       "      <th>dist_1</th>\n",
       "      <th>dist_2</th>\n",
       "      <th>dist_3</th>\n",
       "      <th>dist_4</th>\n",
       "      <th>dist_5</th>\n",
       "    </tr>\n",
       "  </thead>\n",
       "  <tbody>\n",
       "    <tr>\n",
       "      <th>0</th>\n",
       "      <td>6.398750</td>\n",
       "      <td>-12.924829</td>\n",
       "      <td>3.818315</td>\n",
       "      <td>19.287197</td>\n",
       "      <td>4.330135</td>\n",
       "      <td>-100.341771</td>\n",
       "    </tr>\n",
       "    <tr>\n",
       "      <th>1</th>\n",
       "      <td>4.675996</td>\n",
       "      <td>-12.375784</td>\n",
       "      <td>2.331401</td>\n",
       "      <td>19.632544</td>\n",
       "      <td>-1.439021</td>\n",
       "      <td>-90.225477</td>\n",
       "    </tr>\n",
       "    <tr>\n",
       "      <th>2</th>\n",
       "      <td>5.627294</td>\n",
       "      <td>-11.822885</td>\n",
       "      <td>2.576670</td>\n",
       "      <td>19.239539</td>\n",
       "      <td>4.055282</td>\n",
       "      <td>-95.718027</td>\n",
       "    </tr>\n",
       "    <tr>\n",
       "      <th>3</th>\n",
       "      <td>5.403728</td>\n",
       "      <td>-12.499533</td>\n",
       "      <td>3.164076</td>\n",
       "      <td>17.543545</td>\n",
       "      <td>-0.142891</td>\n",
       "      <td>-83.090755</td>\n",
       "    </tr>\n",
       "    <tr>\n",
       "      <th>4</th>\n",
       "      <td>3.313659</td>\n",
       "      <td>-11.923530</td>\n",
       "      <td>3.960696</td>\n",
       "      <td>18.497255</td>\n",
       "      <td>-1.793503</td>\n",
       "      <td>-95.984501</td>\n",
       "    </tr>\n",
       "  </tbody>\n",
       "</table>\n",
       "</div>"
      ],
      "text/plain": [
       "     dist_0     dist_1    dist_2     dist_3    dist_4      dist_5\n",
       "0  6.398750 -12.924829  3.818315  19.287197  4.330135 -100.341771\n",
       "1  4.675996 -12.375784  2.331401  19.632544 -1.439021  -90.225477\n",
       "2  5.627294 -11.822885  2.576670  19.239539  4.055282  -95.718027\n",
       "3  5.403728 -12.499533  3.164076  17.543545 -0.142891  -83.090755\n",
       "4  3.313659 -11.923530  3.960696  18.497255 -1.793503  -95.984501"
      ]
     },
     "execution_count": 2,
     "metadata": {},
     "output_type": "execute_result"
    }
   ],
   "source": [
    "data.head()"
   ]
  },
  {
   "cell_type": "code",
   "execution_count": 4,
   "id": "micro-saudi",
   "metadata": {},
   "outputs": [],
   "source": [
    "import scipy"
   ]
  },
  {
   "cell_type": "code",
   "execution_count": 5,
   "id": "falling-difference",
   "metadata": {},
   "outputs": [
    {
     "data": {
      "text/plain": [
       "<AxesSubplot:ylabel='Frequency'>"
      ]
     },
     "execution_count": 5,
     "metadata": {},
     "output_type": "execute_result"
    },
    {
     "data": {
      "image/png": "[encoded data removed]",
      "text/plain": [
       "<Figure size 432x288 with 1 Axes>"
      ]
     },
     "metadata": {
      "needs_background": "light"
     },
     "output_type": "display_data"
    }
   ],
   "source": [
    "data[['dist_0']].plot.hist()"
   ]
  },
  {
   "cell_type": "code",
   "execution_count": 6,
   "id": "straight-state",
   "metadata": {},
   "outputs": [
    {
     "data": {
      "text/plain": [
       "4.979292999206296"
      ]
     },
     "execution_count": 6,
     "metadata": {},
     "output_type": "execute_result"
    }
   ],
   "source": [
    "data['dist_0'].mean()"
   ]
  },
  {
   "cell_type": "code",
   "execution_count": 7,
   "id": "signed-symphony",
   "metadata": {},
   "outputs": [
    {
     "data": {
      "text/plain": [
       "0.997837181775171"
      ]
     },
     "execution_count": 7,
     "metadata": {},
     "output_type": "execute_result"
    }
   ],
   "source": [
    "data['dist_0'].std()"
   ]
  },
  {
   "cell_type": "code",
   "execution_count": null,
   "id": "palestinian-dealing",
   "metadata": {},
   "outputs": [],
   "source": []
  },
  {
   "cell_type": "code",
   "execution_count": 11,
   "id": "adequate-console",
   "metadata": {},
   "outputs": [],
   "source": [
    "from scipy import stats\n",
    "mu = 0 \n",
    "std = 1\n",
    "N = 100\n",
    "dist = stats.norm(loc=mu, scale=std)"
   ]
  },
  {
   "cell_type": "code",
   "execution_count": 12,
   "id": "controversial-fiber",
   "metadata": {},
   "outputs": [],
   "source": [
    "rv = dist.rvs(size=N)"
   ]
  },
  {
   "cell_type": "code",
   "execution_count": 13,
   "id": "identified-access",
   "metadata": {},
   "outputs": [
    {
     "data": {
      "text/plain": [
       "array([ 1.61875631e+00,  1.20341196e+00,  1.30512853e+00,  1.92874173e+00,\n",
       "       -3.64982280e-01, -8.34861463e-01,  8.40336428e-01,  1.61043919e-03,\n",
       "        1.01414587e+00, -1.13423196e+00,  1.40537433e-01, -5.31209665e-01,\n",
       "        5.05391037e-01,  3.85700453e-01, -1.04160822e+00,  2.46811435e-01,\n",
       "        3.26171043e-01,  9.99468310e-01, -6.20061588e-01,  1.00744769e+00,\n",
       "       -1.07449213e+00, -5.77865929e-01, -3.55176745e-01, -2.34747652e-01,\n",
       "        8.87670984e-01, -4.20549780e-01, -1.25902574e+00, -3.14185679e-01,\n",
       "        2.81206829e-01,  1.57802390e+00,  2.77991705e-01, -3.19749403e-01,\n",
       "        1.67536865e+00,  5.05389359e-01, -1.06852764e-01,  1.44310212e+00,\n",
       "        1.72171260e+00, -2.79682253e-01,  7.00654920e-02, -5.17198829e-01,\n",
       "       -2.32500505e+00,  4.17726280e-01, -1.29181110e-01, -1.76784475e-01,\n",
       "        1.28332152e+00, -1.87371035e+00,  1.73360928e-01, -1.52090103e+00,\n",
       "       -9.58858022e-01,  1.14233442e+00, -1.85447138e-01, -1.04466354e+00,\n",
       "        1.44908593e+00,  5.02253655e-01,  2.19613209e-01, -5.52385478e-01,\n",
       "        1.55158674e+00,  2.92724210e-01, -2.71566439e-01, -3.60571640e-01,\n",
       "        1.50318288e-01,  5.91156108e-01, -1.03463013e+00,  5.50901016e-01,\n",
       "       -7.99276846e-01, -7.39788531e-02,  1.52356715e+00,  6.29169473e-01,\n",
       "       -7.71959183e-01, -5.19909663e-01,  6.61839058e-02, -1.62039174e+00,\n",
       "        1.85966770e+00, -4.02323886e-01, -1.54070159e+00, -9.89168182e-01,\n",
       "        5.81991198e-02, -3.19655312e-01,  4.92207941e-01,  1.21814024e+00,\n",
       "        1.67647479e-01, -1.39364708e+00,  1.01786481e+00,  6.87514013e-01,\n",
       "        2.19603847e-01, -2.38273093e-01, -1.74547695e+00, -2.41939884e+00,\n",
       "        1.16651221e-02,  1.89009375e+00, -6.85068579e-01, -6.59007890e-01,\n",
       "        1.42597484e+00, -1.15456757e+00,  1.80874954e+00, -3.44093943e-01,\n",
       "       -8.59888832e-01,  5.86589201e-01,  2.46421198e+00, -2.07892172e-02])"
      ]
     },
     "execution_count": 13,
     "metadata": {},
     "output_type": "execute_result"
    }
   ],
   "source": [
    "rv"
   ]
  },
  {
   "cell_type": "code",
   "execution_count": null,
   "id": "convenient-excess",
   "metadata": {},
   "outputs": [],
   "source": []
  }
 ],
 "metadata": {
  "kernelspec": {
   "display_name": "Python 3",
   "language": "python",
   "name": "python3"
  },
  "language_info": {
   "codemirror_mode": {
    "name": "ipython",
    "version": 3
   },
   "file_extension": ".py",
   "mimetype": "text/x-python",
   "name": "python",
   "nbconvert_exporter": "python",
   "pygments_lexer": "ipython3",
   "version": "3.7.3"
  }
 },
 "nbformat": 4,
 "nbformat_minor": 5
}
